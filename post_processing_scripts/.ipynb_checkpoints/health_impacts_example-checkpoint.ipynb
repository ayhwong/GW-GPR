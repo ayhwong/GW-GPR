{
 "cells": [
  {
   "cell_type": "code",
   "execution_count": 1,
   "metadata": {},
   "outputs": [
    {
     "name": "stderr",
     "output_type": "stream",
     "text": [
      "/net/fs03/d0/ayhwong/software/GW-GPR/post_processing_scripts/health_impact_func.py:32: NumbaDeprecationWarning: \u001b[1mThe 'nopython' keyword argument was not supplied to the 'numba.jit' decorator. The implicit default value for this argument is currently False, but it will be changed to True in Numba 0.59.0. See https://numba.readthedocs.io/en/stable/reference/deprecation.html#deprecation-of-object-mode-fall-back-behaviour-when-using-jit for details.\u001b[0m\n",
      "  @numba.jit()\n"
     ]
    }
   ],
   "source": [
    "import numpy as np\n",
    "import xarray as xr\n",
    "import os \n",
    "import pandas as pd\n",
    "import health_impact_func as health\n"
   ]
  },
  {
   "cell_type": "code",
   "execution_count": 2,
   "metadata": {},
   "outputs": [],
   "source": [
    "### Do health calculation\n",
    "os.chdir('..')"
   ]
  },
  {
   "cell_type": "code",
   "execution_count": 5,
   "metadata": {},
   "outputs": [],
   "source": [
    "### Read required input   \n",
    "with xr.open_dataarray('input/shared/gpw_age_0.5x0.5.nc') as f:\n",
    "    lon_target = f.longitude\n",
    "    lat_target = f.latitude\n",
    "\n",
    "gemm_vecs = health.get_gemm_param('input/shared/gemm_crf.csv')\n",
    "\n",
    "### load precomputed ncd-lri deaths data\n",
    "with xr.open_dataarray('input/shared/ncd_lri_death.nc') as f:\n",
    "    ncd_lri_death_array = f.values\n",
    "    \n",
    "pm25_baseline = xr.open_dataarray('input/shared/baseline_pm25.nc')\n",
    "\n",
    "### interpolate pm25 into 0.5x0.5 GPW/ncd-lri grid\n",
    "pm25_baseline_regridded = pm25_baseline.interp(lon = lon_target,lat = lat_target,method = 'nearest')\n",
    "pm25_baseline_array = pm25_baseline_regridded.values\n"
   ]
  },
  {
   "cell_type": "code",
   "execution_count": 6,
   "metadata": {},
   "outputs": [],
   "source": [
    "### Calculate premature mortalities\n",
    "\n",
    "### change output directory and scenario names as needed\n",
    "case_name = 'IGSM_GAINS_TAPS'\n",
    "scenarios = ['AA_CLE','AA_MFR','CT_CLE','CT_MFR']\n",
    "\n",
    "\n",
    "output_dir = os.path.join('output',case_name)\n",
    "output_df = pd.DataFrame({\n",
    "    'Scenario':[],\n",
    "    'dmort_low':[],\n",
    "    'dmort_mean':[],\n",
    "    'dmort_high':[]\n",
    "})\n",
    "\n",
    "with xr.open_dataarray(os.path.join(output_dir,'dpm25.nc')) as dpm25:\n",
    "    for i,v in enumerate(scenarios):\n",
    "        dpm25_regridded = dpm25[i,:,:].interp(lon = lon_target,lat = lat_target,method = 'nearest')\n",
    "        pm25_array = (pm25_baseline_regridded+dpm25_regridded).values\n",
    "            \n",
    "        ### Do calculation at 0.5x0.5 grid cell level\n",
    "        dmort_low_map = health.get_dmort_pm25(pm25_baseline_array,pm25_array,ncd_lri_death_array,gemm_vecs['low'])\n",
    "        dmort_mean_map = health.get_dmort_pm25(pm25_baseline_array,pm25_array,ncd_lri_death_array,gemm_vecs['mean'])\n",
    "        dmort_high_map = health.get_dmort_pm25(pm25_baseline_array,pm25_array,ncd_lri_death_array,gemm_vecs['high'])\n",
    "\n",
    "        output_df.loc[i] = {\n",
    "            'Scenario': v,\n",
    "            'dmort_low': np.nansum(dmort_low_map),\n",
    "            'dmort_mean': np.nansum(dmort_mean_map),\n",
    "            'dmort_high': np.nansum(dmort_high_map)\n",
    "        }\n",
    "            \n",
    "### output\n",
    "output_df.set_index('Scenario').to_csv(os.path.join(output_dir,'dmort_global_df.csv'))\n",
    "\n",
    "### you can also save the maps if you so desire (as netcdf)\n",
    "\n",
    "pm25_baseline.close()"
   ]
  }
 ],
 "metadata": {
  "kernelspec": {
   "display_name": "Python 3",
   "language": "python",
   "name": "python3"
  },
  "language_info": {
   "codemirror_mode": {
    "name": "ipython",
    "version": 3
   },
   "file_extension": ".py",
   "mimetype": "text/x-python",
   "name": "python",
   "nbconvert_exporter": "python",
   "pygments_lexer": "ipython3",
   "version": "3.8.5"
  }
 },
 "nbformat": 4,
 "nbformat_minor": 4
}
