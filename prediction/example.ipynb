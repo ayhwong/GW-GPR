{
 "cells": [
  {
   "cell_type": "code",
   "execution_count": 1,
   "metadata": {},
   "outputs": [],
   "source": [
    "import xarray as xr\n",
    "import os \n",
    "import process_prediction_functions as predict"
   ]
  },
  {
   "cell_type": "code",
   "execution_count": 2,
   "metadata": {},
   "outputs": [],
   "source": [
    "os.chdir('..')"
   ]
  },
  {
   "cell_type": "code",
   "execution_count": 3,
   "metadata": {},
   "outputs": [],
   "source": [
    "### Example: do predictions for IGSM_GAINS_TAPS\n",
    "\n",
    "case_name = 'IGSM_GAINS_TAPS'\n",
    "input_dir = os.path.join('input',case_name)\n",
    "output_dir = os.path.join('output',case_name)\n",
    "model_path = 'models/standard'\n",
    "\n",
    "### load data\n",
    "### get emission change files for all cases \n",
    "input_file_list = [os.path.join(input_dir,x) for x in os.listdir(input_dir) if 'multiyear' in x]\n",
    "\n",
    "### Create output directory\n",
    "if not os.path.exists(output_dir):\n",
    "    os.mkdir(output_dir)\n",
    "\n",
    "### Do prediction  \n",
    "with xr.open_mfdataset(input_file_list,combine='nested',concat_dim='Run').load() as f:\n",
    "    dpm25_gp = predict.get_dpm25(f, model_path)\n",
    "    dpm25_gp['mean'].to_netcdf(os.path.join(output_dir,'dpm25.nc'))\n",
    "    dpm25_gp['std'].to_netcdf(os.path.join(output_dir,'dpm25_sigma.nc'))\n",
    "\n",
    "\n"
   ]
  }
 ],
 "metadata": {
  "kernelspec": {
   "display_name": "Python 3",
   "language": "python",
   "name": "python3"
  },
  "language_info": {
   "codemirror_mode": {
    "name": "ipython",
    "version": 3
   },
   "file_extension": ".py",
   "mimetype": "text/x-python",
   "name": "python",
   "nbconvert_exporter": "python",
   "pygments_lexer": "ipython3",
   "version": "3.8.5"
  }
 },
 "nbformat": 4,
 "nbformat_minor": 4
}
