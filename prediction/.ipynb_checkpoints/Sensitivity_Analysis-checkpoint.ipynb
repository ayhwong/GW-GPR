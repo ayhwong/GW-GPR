{
 "cells": [
  {
   "cell_type": "code",
   "execution_count": 2,
   "metadata": {},
   "outputs": [],
   "source": [
    "import numpy as np\n",
    "import scipy\n",
    "import xarray as xr\n",
    "import os \n",
    "import pandas as pd\n",
    "import multiprocessing\n",
    "import pickle\n",
    "import matplotlib.ticker as ticker\n",
    "from SALib import ProblemSpec\n",
    "from tqdm import tqdm\n",
    "\n",
    "\n",
    "plt.rcParams['axes.facecolor']='white'\n",
    "plt.rcParams['savefig.facecolor']='white'"
   ]
  },
  {
   "cell_type": "code",
   "execution_count": 5,
   "metadata": {},
   "outputs": [],
   "source": [
    "    \n",
    "### Construct limits for sensitivity analysis\n",
    "sa_range = test_array.max(dim = 'Run')"
   ]
  },
  {
   "cell_type": "code",
   "execution_count": 6,
   "metadata": {},
   "outputs": [],
   "source": [
    "### Get models\n"
   ]
  },
  {
   "cell_type": "code",
   "execution_count": 7,
   "metadata": {},
   "outputs": [
    {
     "name": "stderr",
     "output_type": "stream",
     "text": [
      "100%|██████████| 2803/2803 [32:03<00:00,  1.46it/s]\n"
     ]
    }
   ],
   "source": [
    "### do sensitivity analysis and output as map\n",
    "st_pm25_output = xr.zeros_like(test_array[pm25_index,0,:,:])\n",
    "s1_pm25_output = xr.zeros_like(st_pm25_output)\n",
    "st_pm25_normalized = xr.zeros_like(test_array[pm25_index,0,:,:])\n",
    "s1_pm25_normalized = xr.zeros_like(st_pm25_output)\n",
    "\n",
    "for k in tqdm(range(len(i_list))):\n",
    "    gp_pm25 = gp_pm25_list[k]\n",
    "    i_target = i_list[k]\n",
    "    j_target = j_list[k]\n",
    "\n",
    "    var_lim = []\n",
    "    for k,v in enumerate(pm25_var):\n",
    "        if v != 'CO2':\n",
    "            var_range = sa_range[pm25_index[k],j_target,i_target].values[()]\n",
    "            var_lim.append([-var_range,var_range])\n",
    "        else:\n",
    "            var_lim.append([0.45,1])\n",
    "        \n",
    "    sp = ProblemSpec({\n",
    "        'names': pm25_var,\n",
    "        'bounds': var_lim,\n",
    "        'outputs': ['Y']\n",
    "    })\n",
    "\n",
    "    sa_pm25 = sp.sample_saltelli(1024).evaluate(gp_pm25.predict).analyze_sobol(print_to_console=False, calc_second_order=True)\n",
    "    st,s1,s2 = sa_pm25.to_df()\n",
    "    \n",
    "    st_pm25_output[:,j_target,i_target] = st.iloc[:,0].values\n",
    "    s1_pm25_output[:,j_target,i_target] = s1.iloc[:,0].values\n",
    "    \n",
    "    st_pm25_normalized[:,j_target,i_target] = st.iloc[:,0].values / np.sum(st.iloc[:,0].values)\n",
    "    s1_pm25_normalized[:,j_target,i_target] = s1.iloc[:,0].values / np.sum(s1.iloc[:,0].values)\n",
    "   \n",
    "    #gp_o3 = gp_o3_list[k]\n",
    "    #var_lim = []\n",
    "    #for k,v in enumerate(o3_var):\n",
    "    #    if (v != 'CO2') & (v != 'CH4'):\n",
    "    #        var_range = sa_range[o3_index[k],j_target,i_target].values[()]\n",
    "    #        var_lim.append([-var_range,var_range])\n",
    "    #    if v == 'CO2':\n",
    "    #        var_lim.append([0.45,1])\n",
    "    #    if v == 'CH4':\n",
    "    #        var_lim.append([0.2,1])\n",
    "        \n",
    "    #sp = ProblemSpec({\n",
    "    #    'names': o3_var,\n",
    "    #    'bounds': var_lim,\n",
    "    #    'outputs': ['Y']\n",
    "    #})\n",
    "\n",
    "    #sa_o3 = sp.sample_saltelli(1024).evaluate(gp_o3.predict).analyze_sobol(print_to_console=False, calc_second_order=True)\n",
    "    #st,s1,s2 = sa_o3.to_df()\n",
    "\n",
    "    #st_o3_output[:,j_target,i_target] = st.iloc[:,0].values \n",
    "    #s1_o3_output[:,j_target,i_target] = s1.iloc[:,0].values\n",
    "    \n",
    "    #st_o3_normalized[:,j_target,i_target] = st.iloc[:,0].values / np.sum(st.iloc[:,0].values)\n",
    "    #s1_o3_normalized[:,j_target,i_target] = s1.iloc[:,0].values / np.sum(s1.iloc[:,0].values)\n",
    "\n",
    "#st_o3_normalized.to_netcdf('st_o3.nc')\n",
    "#s1_o3_normalized.to_netcdf('s1_o3.nc')\n",
    "st_pm25_normalized.to_netcdf('st_pm25_all_vars.nc')\n",
    "s1_pm25_normalized.to_netcdf('s1_pm25_all_vars.nc')"
   ]
  },
  {
   "cell_type": "code",
   "execution_count": 8,
   "metadata": {},
   "outputs": [],
   "source": [
    "#st_o3_normalized = xr.open_dataarray('st_o3.nc')\n",
    "#s1_o3_normalized = xr.open_dataarray('s1_o3.nc')\n",
    "st_pm25_normalized = xr.open_dataarray('st_pm25_all_vars.nc')\n",
    "s1_pm25_normalized = xr.open_dataarray('s1_pm25_all_vars.nc')"
   ]
  },
  {
   "cell_type": "code",
   "execution_count": 18,
   "metadata": {},
   "outputs": [
    {
     "data": {
      "text/plain": [
       "<matplotlib.collections.QuadMesh at 0x7f3b4e423730>"
      ]
     },
     "execution_count": 18,
     "metadata": {},
     "output_type": "execute_result"
    },
    {
     "data": {
      "image/png": "[encoded data removed]",
      "text/plain": [
       "<Figure size 432x288 with 2 Axes>"
      ]
     },
     "metadata": {
      "needs_background": "light"
     },
     "output_type": "display_data"
    }
   ],
   "source": [
    "st_pm25_normalized[3,:,:].plot()"
   ]
  },
  {
   "cell_type": "code",
   "execution_count": 1,
   "metadata": {},
   "outputs": [
    {
     "ename": "NameError",
     "evalue": "name 'plt' is not defined",
     "output_type": "error",
     "traceback": [
      "\u001b[0;31m---------------------------------------------------------------------------\u001b[0m",
      "\u001b[0;31mNameError\u001b[0m                                 Traceback (most recent call last)",
      "\u001b[0;32m<ipython-input-1-80d00185fba8>\u001b[0m in \u001b[0;36m<module>\u001b[0;34m\u001b[0m\n\u001b[0;32m----> 1\u001b[0;31m \u001b[0mfig\u001b[0m\u001b[0;34m,\u001b[0m \u001b[0maxes\u001b[0m \u001b[0;34m=\u001b[0m \u001b[0mplt\u001b[0m\u001b[0;34m.\u001b[0m\u001b[0msubplots\u001b[0m\u001b[0;34m(\u001b[0m\u001b[0mnrows\u001b[0m\u001b[0;34m=\u001b[0m\u001b[0;36m2\u001b[0m\u001b[0;34m,\u001b[0m\u001b[0mncols\u001b[0m\u001b[0;34m=\u001b[0m\u001b[0;36m3\u001b[0m\u001b[0;34m,\u001b[0m \u001b[0mfigsize\u001b[0m \u001b[0;34m=\u001b[0m \u001b[0;34m(\u001b[0m\u001b[0;36m18\u001b[0m\u001b[0;34m,\u001b[0m\u001b[0;36m6\u001b[0m\u001b[0;34m)\u001b[0m\u001b[0;34m,\u001b[0m \u001b[0msubplot_kw\u001b[0m\u001b[0;34m=\u001b[0m\u001b[0mdict\u001b[0m\u001b[0;34m(\u001b[0m\u001b[0mprojection\u001b[0m\u001b[0;34m=\u001b[0m\u001b[0mccrs\u001b[0m\u001b[0;34m.\u001b[0m\u001b[0mRobinson\u001b[0m\u001b[0;34m(\u001b[0m\u001b[0;34m)\u001b[0m\u001b[0;34m)\u001b[0m\u001b[0;34m)\u001b[0m\u001b[0;34m\u001b[0m\u001b[0;34m\u001b[0m\u001b[0m\n\u001b[0m\u001b[1;32m      2\u001b[0m \u001b[0msubtitle\u001b[0m \u001b[0;34m=\u001b[0m \u001b[0;34m[\u001b[0m\u001b[0;34m'NO'\u001b[0m\u001b[0;34m,\u001b[0m\u001b[0;34m'BC'\u001b[0m\u001b[0;34m,\u001b[0m\u001b[0;34m'OC'\u001b[0m\u001b[0;34m,\u001b[0m\u001b[0;34mr'$NH_{3}$'\u001b[0m\u001b[0;34m,\u001b[0m\u001b[0;34mr'$SO_{2}$'\u001b[0m\u001b[0;34m,\u001b[0m\u001b[0;34mr'$CO_{2}$'\u001b[0m\u001b[0;34m]\u001b[0m\u001b[0;34m\u001b[0m\u001b[0;34m\u001b[0m\u001b[0m\n\u001b[1;32m      3\u001b[0m \u001b[0;34m\u001b[0m\u001b[0m\n\u001b[1;32m      4\u001b[0m \u001b[0mplt\u001b[0m\u001b[0;34m.\u001b[0m\u001b[0msubplots_adjust\u001b[0m\u001b[0;34m(\u001b[0m\u001b[0mhspace\u001b[0m \u001b[0;34m=\u001b[0m \u001b[0;36m0.05\u001b[0m\u001b[0;34m,\u001b[0m\u001b[0mwspace\u001b[0m \u001b[0;34m=\u001b[0m \u001b[0;36m0.05\u001b[0m\u001b[0;34m)\u001b[0m\u001b[0;34m\u001b[0m\u001b[0;34m\u001b[0m\u001b[0m\n\u001b[1;32m      5\u001b[0m \u001b[0;32mfor\u001b[0m \u001b[0mi\u001b[0m\u001b[0;34m,\u001b[0m\u001b[0max\u001b[0m \u001b[0;32min\u001b[0m \u001b[0menumerate\u001b[0m\u001b[0;34m(\u001b[0m\u001b[0maxes\u001b[0m\u001b[0;34m.\u001b[0m\u001b[0mflatten\u001b[0m\u001b[0;34m(\u001b[0m\u001b[0;34m)\u001b[0m\u001b[0;34m)\u001b[0m\u001b[0;34m:\u001b[0m\u001b[0;34m\u001b[0m\u001b[0;34m\u001b[0m\u001b[0m\n",
      "\u001b[0;31mNameError\u001b[0m: name 'plt' is not defined"
     ]
    }
   ],
   "source": [
    "fig, axes = plt.subplots(nrows=2,ncols=3, figsize = (18,6), subplot_kw=dict(projection=ccrs.Robinson()))\n",
    "subtitle = ['NO','BC','OC',r'$NH_{3}$',r'$SO_{2}$',r'$CO_{2}$']\n",
    "\n",
    "plt.subplots_adjust(hspace = 0.05,wspace = 0.05) \n",
    "for i,ax in enumerate(axes.flatten()):\n",
    "    #scn = 'scenario_'+str(i+1)\n",
    "    ax.set_global()\n",
    "    ax.coastlines()\n",
    "    ax.gridlines()\n",
    "    #im = st_pm25_normalized[i,:,:].plot(ax= ax,transform = ccrs.PlateCarree(),cmap = 'Spectral_r',add_colorbar = False)\n",
    "    #ax.set_title(subtitle[i],fontsize=16)\n",
    "\n",
    "#cbar = fig.colorbar(im,ax=axes.ravel().tolist(),shrink = 0.9,extend = 'max')\n",
    "#cbar.ax.tick_params(labelsize=12)\n",
    "#cbar.set_label(r'$\\Delta$$\\rm PM_{2.5}$ ($\\rm \\mu$g $\\rm m^{-3}$)',fontsize = 16)\n",
    "#fig.set_rasterized(rasterized=True)\n"
   ]
  },
  {
   "cell_type": "code",
   "execution_count": 4,
   "metadata": {},
   "outputs": [
    {
     "data": {
      "text/plain": [
       "<matplotlib.collections.QuadMesh at 0x7f3e3305b1f0>"
      ]
     },
     "execution_count": 4,
     "metadata": {},
     "output_type": "execute_result"
    },
    {
     "data": {
      "image/png": "[encoded data removed]",
      "text/plain": [
       "<Figure size 432x288 with 2 Axes>"
      ]
     },
     "metadata": {
      "needs_background": "light"
     },
     "output_type": "display_data"
    }
   ],
   "source": [
    "st_pm25_normalized[1,:,:].plot()"
   ]
  },
  {
   "cell_type": "code",
   "execution_count": 39,
   "metadata": {},
   "outputs": [],
   "source": [
    "test_range = np.random.choice(range(120),24,replace = False)"
   ]
  },
  {
   "cell_type": "code",
   "execution_count": 42,
   "metadata": {},
   "outputs": [
    {
     "data": {
      "text/plain": [
       "array([104,  54, 106, 108,  15, 118,  73,  71,   4,  94,  98,  96,  43,\n",
       "       100,  49,  82,  32,  22,  40,  67,  28,  17,  37,  75])"
      ]
     },
     "execution_count": 42,
     "metadata": {},
     "output_type": "execute_result"
    }
   ],
   "source": [
    "test_range"
   ]
  },
  {
   "cell_type": "code",
   "execution_count": 46,
   "metadata": {},
   "outputs": [],
   "source": [
    "test_subrange = np.arange(120)"
   ]
  },
  {
   "cell_type": "code",
   "execution_count": 7,
   "metadata": {},
   "outputs": [],
   "source": [
    "train_subset_index = np.random.choice(range(120),96,replace = False)\n",
    "\n",
    "test_subset_index = np.arange(120)\n",
    "for k in train_subset_index:\n",
    "    test_subset_index = np.delete(test_subset_index,np.where(test_subset_index == k))\n"
   ]
  },
  {
   "cell_type": "code",
   "execution_count": 11,
   "metadata": {},
   "outputs": [],
   "source": [
    "train_test_index = {'train_run_index':train_subset_index, \n",
    "                   'test_run_index':test_subset_index}\n"
   ]
  },
  {
   "cell_type": "code",
   "execution_count": 12,
   "metadata": {},
   "outputs": [
    {
     "data": {
      "text/plain": [
       "{'train_run_index': array([ 68,  14,   1,  79,  48, 103,  20,  73,  93,  72, 116, 100,  49,\n",
       "         45,  46,  41, 119,  24,  42, 102,  78,   9,  50,  91,  34,  53,\n",
       "         61,   8, 118,  27,  26,  16,  76,  70,  60,  62,  94,  75,   2,\n",
       "         64,  57,  55,  56,  87,  96,  33, 111,  18,  21,  51,  84,   0,\n",
       "          4, 108, 117,  89,  83,  13,  86,  32,  10,  44,  11, 101, 105,\n",
       "         59,   5, 112,  54,  22,  23,  80,  47, 114, 104,  63,  35, 115,\n",
       "         40,  31,  92,  29,  69, 110,  67,   7,  98,  36,  66,  90,  88,\n",
       "         43,  25,   6,  28,  37]),\n",
       " 'test_run_index': array([  3,  12,  15,  17,  19,  30,  38,  39,  52,  58,  65,  71,  74,\n",
       "         77,  81,  82,  85,  95,  97,  99, 106, 107, 109, 113])}"
      ]
     },
     "execution_count": 12,
     "metadata": {},
     "output_type": "execute_result"
    }
   ],
   "source": [
    "train_test_index"
   ]
  },
  {
   "cell_type": "code",
   "execution_count": 15,
   "metadata": {},
   "outputs": [
    {
     "data": {
      "text/plain": [
       "1"
      ]
     },
     "execution_count": 15,
     "metadata": {},
     "output_type": "execute_result"
    }
   ],
   "source": [
    "int('1')"
   ]
  },
  {
   "cell_type": "code",
   "execution_count": 14,
   "metadata": {},
   "outputs": [],
   "source": [
    "np.random.seed(1000*copy)\n"
   ]
  },
  {
   "cell_type": "code",
   "execution_count": null,
   "metadata": {},
   "outputs": [],
   "source": []
  }
 ],
 "metadata": {
  "kernelspec": {
   "display_name": "Python 3",
   "language": "python",
   "name": "python3"
  },
  "language_info": {
   "codemirror_mode": {
    "name": "ipython",
    "version": 3
   },
   "file_extension": ".py",
   "mimetype": "text/x-python",
   "name": "python",
   "nbconvert_exporter": "python",
   "pygments_lexer": "ipython3",
   "version": "3.8.5"
  }
 },
 "nbformat": 4,
 "nbformat_minor": 4
}
