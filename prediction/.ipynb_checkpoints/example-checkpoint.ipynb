{
 "cells": [
  {
   "cell_type": "code",
   "execution_count": 1,
   "metadata": {},
   "outputs": [],
   "source": [
    "import numpy as np\n",
    "import scipy\n",
    "import xarray as xr\n",
    "import os \n",
    "import pandas as pd\n",
    "import multiprocessing\n",
    "import pickle\n",
    "import process_prediction_functions as predict"
   ]
  },
  {
   "cell_type": "code",
   "execution_count": 2,
   "metadata": {},
   "outputs": [],
   "source": [
    "os.chdir('..')"
   ]
  },
  {
   "cell_type": "code",
   "execution_count": 3,
   "metadata": {},
   "outputs": [
    {
     "ename": "ModuleNotFoundError",
     "evalue": "No module named 'sklearn'",
     "output_type": "error",
     "traceback": [
      "\u001b[0;31m---------------------------------------------------------------------------\u001b[0m",
      "\u001b[0;31mModuleNotFoundError\u001b[0m                       Traceback (most recent call last)",
      "Cell \u001b[0;32mIn[3], line 18\u001b[0m\n\u001b[1;32m     16\u001b[0m \u001b[38;5;66;03m### Do prediction  \u001b[39;00m\n\u001b[1;32m     17\u001b[0m \u001b[38;5;28;01mwith\u001b[39;00m xr\u001b[38;5;241m.\u001b[39mopen_mfdataset(input_file_list,combine\u001b[38;5;241m=\u001b[39m\u001b[38;5;124m'\u001b[39m\u001b[38;5;124mnested\u001b[39m\u001b[38;5;124m'\u001b[39m,concat_dim\u001b[38;5;241m=\u001b[39m\u001b[38;5;124m'\u001b[39m\u001b[38;5;124mRun\u001b[39m\u001b[38;5;124m'\u001b[39m)\u001b[38;5;241m.\u001b[39mload() \u001b[38;5;28;01mas\u001b[39;00m f:\n\u001b[0;32m---> 18\u001b[0m     dpm25_gp \u001b[38;5;241m=\u001b[39m \u001b[43mpredict\u001b[49m\u001b[38;5;241;43m.\u001b[39;49m\u001b[43mget_dpm25\u001b[49m\u001b[43m(\u001b[49m\u001b[43mf\u001b[49m\u001b[43m,\u001b[49m\u001b[43m \u001b[49m\u001b[43mmodel_path\u001b[49m\u001b[43m)\u001b[49m\n\u001b[1;32m     19\u001b[0m     dpm25_gp[\u001b[38;5;124m'\u001b[39m\u001b[38;5;124mmean\u001b[39m\u001b[38;5;124m'\u001b[39m]\u001b[38;5;241m.\u001b[39mto_netcdf(os\u001b[38;5;241m.\u001b[39mpath\u001b[38;5;241m.\u001b[39mjoin(output_dir,\u001b[38;5;124m'\u001b[39m\u001b[38;5;124mdpm25.nc\u001b[39m\u001b[38;5;124m'\u001b[39m))\n\u001b[1;32m     20\u001b[0m     dpm25_gp[\u001b[38;5;124m'\u001b[39m\u001b[38;5;124mstd\u001b[39m\u001b[38;5;124m'\u001b[39m]\u001b[38;5;241m.\u001b[39mto_netcdf(os\u001b[38;5;241m.\u001b[39mpath\u001b[38;5;241m.\u001b[39mjoin(output_dir,\u001b[38;5;124m'\u001b[39m\u001b[38;5;124mdpm25_sigma.nc\u001b[39m\u001b[38;5;124m'\u001b[39m))\n",
      "File \u001b[0;32m/net/fs03/d0/ayhwong/software/GW-GPR/prediction/process_prediction_functions.py:172\u001b[0m, in \u001b[0;36mget_dpm25\u001b[0;34m(input_xr, model_path, mode)\u001b[0m\n\u001b[1;32m    170\u001b[0m gw_gpr_input \u001b[38;5;241m=\u001b[39m preprocess_input(input_xr, model_path)\n\u001b[1;32m    171\u001b[0m \u001b[38;5;28;01mif\u001b[39;00m mode \u001b[38;5;241m==\u001b[39m \u001b[38;5;124m'\u001b[39m\u001b[38;5;124mgp\u001b[39m\u001b[38;5;124m'\u001b[39m:\n\u001b[0;32m--> 172\u001b[0m     output \u001b[38;5;241m=\u001b[39m \u001b[43mdo_prediction_gp\u001b[49m\u001b[43m(\u001b[49m\u001b[43mgw_gpr_input\u001b[49m\u001b[43m[\u001b[49m\u001b[38;5;124;43m'\u001b[39;49m\u001b[38;5;124;43mndarray_in\u001b[39;49m\u001b[38;5;124;43m'\u001b[39;49m\u001b[43m]\u001b[49m\u001b[43m,\u001b[49m\u001b[43m \u001b[49m\u001b[43mgw_gpr_input\u001b[49m\u001b[43m[\u001b[49m\u001b[38;5;124;43m'\u001b[39;49m\u001b[38;5;124;43mpm25_index\u001b[39;49m\u001b[38;5;124;43m'\u001b[39;49m\u001b[43m]\u001b[49m\u001b[43m,\u001b[49m\u001b[43m \u001b[49m\u001b[43mmodel_path\u001b[49m\u001b[43m)\u001b[49m\n\u001b[1;32m    173\u001b[0m \u001b[38;5;28;01mif\u001b[39;00m mode \u001b[38;5;241m==\u001b[39m \u001b[38;5;124m'\u001b[39m\u001b[38;5;124mlin\u001b[39m\u001b[38;5;124m'\u001b[39m:\n\u001b[1;32m    174\u001b[0m     output \u001b[38;5;241m=\u001b[39m do_prediction_lin(gw_gpr_input[\u001b[38;5;124m'\u001b[39m\u001b[38;5;124mndarray_in\u001b[39m\u001b[38;5;124m'\u001b[39m], gw_gpr_input[\u001b[38;5;124m'\u001b[39m\u001b[38;5;124mpm25_index\u001b[39m\u001b[38;5;124m'\u001b[39m], model_path)\n",
      "File \u001b[0;32m/net/fs03/d0/ayhwong/software/GW-GPR/prediction/process_prediction_functions.py:113\u001b[0m, in \u001b[0;36mdo_prediction_gp\u001b[0;34m(input_xr, pm25_index, model_path)\u001b[0m\n\u001b[1;32m    110\u001b[0m \u001b[38;5;28;01mdef\u001b[39;00m \u001b[38;5;21mdo_prediction_gp\u001b[39m(input_xr, pm25_index, model_path):\n\u001b[1;32m    112\u001b[0m     \u001b[38;5;28;01mwith\u001b[39;00m \u001b[38;5;28mopen\u001b[39m(os\u001b[38;5;241m.\u001b[39mpath\u001b[38;5;241m.\u001b[39mjoin(model_path,\u001b[38;5;124m'\u001b[39m\u001b[38;5;124mgp_pm25.pkl\u001b[39m\u001b[38;5;124m'\u001b[39m), \u001b[38;5;124m'\u001b[39m\u001b[38;5;124mrb\u001b[39m\u001b[38;5;124m'\u001b[39m) \u001b[38;5;28;01mas\u001b[39;00m f:\n\u001b[0;32m--> 113\u001b[0m         gp_pm25_list \u001b[38;5;241m=\u001b[39m \u001b[43mpickle\u001b[49m\u001b[38;5;241;43m.\u001b[39;49m\u001b[43mload\u001b[49m\u001b[43m(\u001b[49m\u001b[43mf\u001b[49m\u001b[43m)\u001b[49m\n\u001b[1;32m    115\u001b[0m     \u001b[38;5;28;01mwith\u001b[39;00m \u001b[38;5;28mopen\u001b[39m(os\u001b[38;5;241m.\u001b[39mpath\u001b[38;5;241m.\u001b[39mjoin(model_path,\u001b[38;5;124m'\u001b[39m\u001b[38;5;124mcoord_list.pkl\u001b[39m\u001b[38;5;124m'\u001b[39m),\u001b[38;5;124m'\u001b[39m\u001b[38;5;124mrb\u001b[39m\u001b[38;5;124m'\u001b[39m) \u001b[38;5;28;01mas\u001b[39;00m f:\n\u001b[1;32m    116\u001b[0m         ij_list \u001b[38;5;241m=\u001b[39m pickle\u001b[38;5;241m.\u001b[39mload(f)\n",
      "\u001b[0;31mModuleNotFoundError\u001b[0m: No module named 'sklearn'"
     ]
    }
   ],
   "source": [
    "### Example: do predictions for IGSM_GAINS_TAPS\n",
    "\n",
    "case_name = 'IGSM_GAINS_TAPS'\n",
    "input_dir = os.path.join('input',case_name)\n",
    "output_dir = os.path.join('output',case_name)\n",
    "model_path = 'models/standard'\n",
    "\n",
    "### load data\n",
    "### get emission change files for all cases \n",
    "input_file_list = [os.path.join(input_dir,x) for x in os.listdir(input_dir) if 'multiyear' in x]\n",
    "\n",
    "### Create output directory\n",
    "if os.path.exists(output_dir):\n",
    "    os.mkdir(output_dir)\n",
    "\n",
    "### Do prediction  \n",
    "with xr.open_mfdataset(input_file_list,combine='nested',concat_dim='Run').load() as f:\n",
    "    dpm25_gp = predict.get_dpm25(f, model_path)\n",
    "    dpm25_gp['mean'].to_netcdf(os.path.join(output_dir,'dpm25.nc'))\n",
    "    dpm25_gp['std'].to_netcdf(os.path.join(output_dir,'dpm25_sigma.nc'))\n",
    "\n",
    "\n"
   ]
  },
  {
   "cell_type": "code",
   "execution_count": null,
   "metadata": {},
   "outputs": [],
   "source": []
  }
 ],
 "metadata": {
  "kernelspec": {
   "display_name": "Python 3 (ipykernel)",
   "language": "python",
   "name": "python3"
  },
  "language_info": {
   "codemirror_mode": {
    "name": "ipython",
    "version": 3
   },
   "file_extension": ".py",
   "mimetype": "text/x-python",
   "name": "python",
   "nbconvert_exporter": "python",
   "pygments_lexer": "ipython3",
   "version": "3.9.16"
  }
 },
 "nbformat": 4,
 "nbformat_minor": 4
}
